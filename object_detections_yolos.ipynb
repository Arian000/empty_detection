{
  "cells": [
    {
      "attachments": {},
      "cell_type": "markdown",
      "metadata": {
        "id": "IaxwxJ1YhCma"
      },
      "source": [
        "# yolo 9000"
      ]
    },
    {
      "cell_type": "code",
      "execution_count": 1,
      "metadata": {
        "colab": {
          "base_uri": "https://localhost:8080/"
        },
        "id": "mRU8jjvmcgMR",
        "outputId": "07d9aa5f-56eb-4cae-b7bf-8f35b4c2eba2"
      },
      "outputs": [
        {
          "name": "stdout",
          "output_type": "stream",
          "text": [
            "Couldn't find program: 'bash'\n"
          ]
        }
      ],
      "source": [
        "%%bash\n",
        "git clone --recursive https://github.com/philipperemy/yolo-9000.git\n",
        "cd yolo-9000\n",
        "cat yolo9000-weights/x* > yolo9000-weights/yolo9000.weights # it was generated from split -b 95m yolo9000.weights\n",
        "cd darknet \n",
        "make # Will run on CPU. For GPU support, scroll down!\n",
        "./darknet detector test cfg/combine9k.data cfg/yolo9000.cfg ../yolo9000-weights/yolo9000.weights /content/data/photo_00.jpg"
      ]
    },
    {
      "cell_type": "code",
      "execution_count": 2,
      "metadata": {
        "colab": {
          "base_uri": "https://localhost:8080/"
        },
        "id": "oKD3AGOvgrXw",
        "outputId": "89a0e303-c5cc-4686-9eba-14642fd1cb12"
      },
      "outputs": [
        {
          "name": "stderr",
          "output_type": "stream",
          "text": [
            "'.' is not recognized as an internal or external command,\n",
            "operable program or batch file.\n"
          ]
        }
      ],
      "source": [
        "!./darknet detector test cfg/combine9k.data cfg/yolo9000.cfg ../yolo9000-weights/yolo9000.weights /content/data/photo_00.jpg"
      ]
    },
    {
      "cell_type": "code",
      "execution_count": 3,
      "metadata": {
        "id": "3Vj5y3EHdTRS"
      },
      "outputs": [
        {
          "name": "stderr",
          "output_type": "stream",
          "text": [
            "'rm' is not recognized as an internal or external command,\n",
            "operable program or batch file.\n"
          ]
        }
      ],
      "source": [
        "!rm -r /content/yolo-9000"
      ]
    },
    {
      "cell_type": "code",
      "execution_count": 4,
      "metadata": {
        "colab": {
          "base_uri": "https://localhost:8080/"
        },
        "id": "MEScE2-rdYKA",
        "outputId": "4b6c1c3d-8e76-4dd4-fb94-885dbb3d7b96"
      },
      "outputs": [
        {
          "name": "stdout",
          "output_type": "stream",
          "text": [
            "Couldn't find program: 'bash'\n"
          ]
        }
      ],
      "source": [
        "%%bash\n",
        "git clone --recursive https://github.com/philipperemy/yolo-9000.git\n",
        "cd yolo-9000\n",
        "cat yolo9000-weights/x* > yolo9000-weights/yolo9000.weights # it was generated from split -b 95m yolo9000.weights\n",
        "cd darknet \n",
        "make # Will run on CPU. For GPU support, scroll down!"
      ]
    },
    {
      "attachments": {},
      "cell_type": "markdown",
      "metadata": {
        "id": "rVJblZQ9hHQ_"
      },
      "source": [
        "# yolo 8"
      ]
    },
    {
      "cell_type": "code",
      "execution_count": 5,
      "metadata": {
        "colab": {
          "base_uri": "https://localhost:8080/"
        },
        "id": "81rg5xIOF_RX",
        "outputId": "dcbcbc88-67c6-414d-9796-f77918c24ed4"
      },
      "outputs": [
        {
          "name": "stderr",
          "output_type": "stream",
          "text": [
            "Ultralytics YOLOv8.0.97  Python-3.11.3 torch-2.0.1+cpu CPU\n",
            "Setup complete  (8 CPUs, 15.9 GB RAM, 461.4/476.3 GB disk)\n"
          ]
        }
      ],
      "source": [
        "%pip install ultralytics\n",
        "import ultralytics\n",
        "ultralytics.checks()"
      ]
    },
    {
      "cell_type": "code",
      "execution_count": 8,
      "metadata": {
        "colab": {
          "base_uri": "https://localhost:8080/"
        },
        "id": "EV_aOVT1HVwg",
        "outputId": "17cfee78-df49-4a36-b12f-a0d1043f51b2"
      },
      "outputs": [
        {
          "name": "stderr",
          "output_type": "stream",
          "text": [
            "\n",
            "image 1/1 C:\\Users\\lenovo\\Desktop\\AI\\Moohebat\\data\\photo_00.jpg: 480x640 1 cup, 1627.4ms\n",
            "Speed: 4.0ms preprocess, 1627.4ms inference, 2.0ms postprocess per image at shape (1, 3, 640, 640)\n"
          ]
        },
        {
          "data": {
            "text/plain": [
              "1"
            ]
          },
          "execution_count": 8,
          "metadata": {},
          "output_type": "execute_result"
        }
      ],
      "source": [
        "from ultralytics import YOLO\n",
        "\n",
        "model = YOLO('yolov8x.pt')\n",
        "results = model.predict('./data/photo_00.jpg')\n",
        "results[0].__len__()"
      ]
    },
    {
      "cell_type": "code",
      "execution_count": null,
      "metadata": {
        "id": "c8J2Z-RDhlm_"
      },
      "outputs": [],
      "source": [
        "from ultralytics import YOLO\n",
        "\n",
        "def predict_image(path, conf=0.28, return_count=False):\n",
        "    model = YOLO('yolov8x.pt')\n",
        "    results = model.predict(path, conf=conf)\n",
        "    n_objects = results[0].__len__()\n",
        "    if return_count:\n",
        "        return n_objects\n",
        "    if n_objects > 1:\n",
        "        return True\n",
        "    return False"
      ]
    },
    {
      "cell_type": "code",
      "execution_count": null,
      "metadata": {
        "colab": {
          "base_uri": "https://localhost:8080/"
        },
        "id": "rBBDlluYWeys",
        "outputId": "ae17695b-abd8-4875-f7b3-110aecf42815"
      },
      "outputs": [
        {
          "name": "stdout",
          "output_type": "stream",
          "text": [
            "/content/data/photo_00.jpg\n"
          ]
        },
        {
          "name": "stderr",
          "output_type": "stream",
          "text": [
            "\n",
            "image 1/1 /content/data/photo_00.jpg: 480x640 1 cup, 3266.9ms\n",
            "Speed: 2.6ms preprocess, 3266.9ms inference, 2.1ms postprocess per image at shape (1, 3, 640, 640)\n"
          ]
        },
        {
          "name": "stdout",
          "output_type": "stream",
          "text": [
            "1\n",
            "/content/data/photo_28.jpg\n"
          ]
        },
        {
          "name": "stderr",
          "output_type": "stream",
          "text": [
            "\n",
            "image 1/1 /content/data/photo_28.jpg: 480x640 1 cup, 3973.3ms\n",
            "Speed: 3.8ms preprocess, 3973.3ms inference, 1.4ms postprocess per image at shape (1, 3, 640, 640)\n"
          ]
        },
        {
          "name": "stdout",
          "output_type": "stream",
          "text": [
            "1\n",
            "/content/data/photo_23.jpg\n"
          ]
        },
        {
          "name": "stderr",
          "output_type": "stream",
          "text": [
            "\n",
            "image 1/1 /content/data/photo_23.jpg: 480x640 (no detections), 3227.0ms\n",
            "Speed: 1.8ms preprocess, 3227.0ms inference, 0.8ms postprocess per image at shape (1, 3, 640, 640)\n"
          ]
        },
        {
          "name": "stdout",
          "output_type": "stream",
          "text": [
            "0\n",
            "/content/data/photo_20.jpg\n"
          ]
        },
        {
          "name": "stderr",
          "output_type": "stream",
          "text": [
            "\n",
            "image 1/1 /content/data/photo_20.jpg: 480x640 1 frisbee, 4593.7ms\n",
            "Speed: 2.0ms preprocess, 4593.7ms inference, 1.2ms postprocess per image at shape (1, 3, 640, 640)\n"
          ]
        },
        {
          "name": "stdout",
          "output_type": "stream",
          "text": [
            "1\n",
            "/content/data/photo_27.jpg\n"
          ]
        },
        {
          "name": "stderr",
          "output_type": "stream",
          "text": [
            "\n",
            "image 1/1 /content/data/photo_27.jpg: 480x640 (no detections), 3246.4ms\n",
            "Speed: 3.7ms preprocess, 3246.4ms inference, 0.8ms postprocess per image at shape (1, 3, 640, 640)\n"
          ]
        },
        {
          "name": "stdout",
          "output_type": "stream",
          "text": [
            "0\n",
            "/content/data/photo_08.jpg\n"
          ]
        },
        {
          "name": "stderr",
          "output_type": "stream",
          "text": [
            "\n",
            "image 1/1 /content/data/photo_08.jpg: 480x640 1 clock, 3738.9ms\n",
            "Speed: 2.0ms preprocess, 3738.9ms inference, 1.7ms postprocess per image at shape (1, 3, 640, 640)\n"
          ]
        },
        {
          "name": "stdout",
          "output_type": "stream",
          "text": [
            "1\n",
            "/content/data/photo_13.jpg\n"
          ]
        },
        {
          "name": "stderr",
          "output_type": "stream",
          "text": [
            "\n",
            "image 1/1 /content/data/photo_13.jpg: 480x640 1 handbag, 1 cup, 3212.6ms\n",
            "Speed: 1.9ms preprocess, 3212.6ms inference, 1.2ms postprocess per image at shape (1, 3, 640, 640)\n"
          ]
        },
        {
          "name": "stdout",
          "output_type": "stream",
          "text": [
            "2\n",
            "/content/data/photo_02.jpg\n"
          ]
        },
        {
          "name": "stderr",
          "output_type": "stream",
          "text": [
            "\n",
            "image 1/1 /content/data/photo_02.jpg: 480x640 1 cup, 3244.1ms\n",
            "Speed: 1.9ms preprocess, 3244.1ms inference, 1.4ms postprocess per image at shape (1, 3, 640, 640)\n"
          ]
        },
        {
          "name": "stdout",
          "output_type": "stream",
          "text": [
            "1\n",
            "/content/data/photo_10.jpg\n"
          ]
        },
        {
          "name": "stderr",
          "output_type": "stream",
          "text": [
            "\n",
            "image 1/1 /content/data/photo_10.jpg: 480x640 (no detections), 4283.0ms\n",
            "Speed: 2.1ms preprocess, 4283.0ms inference, 1.2ms postprocess per image at shape (1, 3, 640, 640)\n"
          ]
        },
        {
          "name": "stdout",
          "output_type": "stream",
          "text": [
            "0\n",
            "/content/data/photo_04.jpg\n"
          ]
        },
        {
          "name": "stderr",
          "output_type": "stream",
          "text": [
            "\n",
            "image 1/1 /content/data/photo_04.jpg: 480x640 1 handbag, 1 suitcase, 3220.6ms\n",
            "Speed: 1.9ms preprocess, 3220.6ms inference, 3.0ms postprocess per image at shape (1, 3, 640, 640)\n"
          ]
        },
        {
          "name": "stdout",
          "output_type": "stream",
          "text": [
            "2\n",
            "/content/data/photo_18.jpg\n"
          ]
        },
        {
          "name": "stderr",
          "output_type": "stream",
          "text": [
            "\n",
            "image 1/1 /content/data/photo_18.jpg: 480x640 1 handbag, 1 cup, 4291.0ms\n",
            "Speed: 1.9ms preprocess, 4291.0ms inference, 2.3ms postprocess per image at shape (1, 3, 640, 640)\n"
          ]
        },
        {
          "name": "stdout",
          "output_type": "stream",
          "text": [
            "2\n",
            "/content/data/photo_29.jpg\n"
          ]
        },
        {
          "name": "stderr",
          "output_type": "stream",
          "text": [
            "\n",
            "image 1/1 /content/data/photo_29.jpg: 480x640 1 cup, 3213.1ms\n",
            "Speed: 1.9ms preprocess, 3213.1ms inference, 1.4ms postprocess per image at shape (1, 3, 640, 640)\n"
          ]
        },
        {
          "name": "stdout",
          "output_type": "stream",
          "text": [
            "1\n",
            "/content/data/photo_26.jpg\n"
          ]
        },
        {
          "name": "stderr",
          "output_type": "stream",
          "text": [
            "\n",
            "image 1/1 /content/data/photo_26.jpg: 480x640 (no detections), 3211.1ms\n",
            "Speed: 2.3ms preprocess, 3211.1ms inference, 0.8ms postprocess per image at shape (1, 3, 640, 640)\n"
          ]
        },
        {
          "name": "stdout",
          "output_type": "stream",
          "text": [
            "0\n",
            "/content/data/photo_14.jpg\n"
          ]
        },
        {
          "name": "stderr",
          "output_type": "stream",
          "text": [
            "\n",
            "image 1/1 /content/data/photo_14.jpg: 480x640 1 bowl, 1 chair, 3832.1ms\n",
            "Speed: 2.1ms preprocess, 3832.1ms inference, 1.3ms postprocess per image at shape (1, 3, 640, 640)\n"
          ]
        },
        {
          "name": "stdout",
          "output_type": "stream",
          "text": [
            "2\n",
            "/content/data/photo_06.jpg\n"
          ]
        },
        {
          "name": "stderr",
          "output_type": "stream",
          "text": [
            "\n",
            "image 1/1 /content/data/photo_06.jpg: 480x640 1 handbag, 1 cup, 3194.9ms\n",
            "Speed: 2.0ms preprocess, 3194.9ms inference, 1.3ms postprocess per image at shape (1, 3, 640, 640)\n"
          ]
        },
        {
          "name": "stdout",
          "output_type": "stream",
          "text": [
            "2\n",
            "/content/data/photo_01.jpg\n"
          ]
        },
        {
          "name": "stderr",
          "output_type": "stream",
          "text": [
            "\n",
            "image 1/1 /content/data/photo_01.jpg: 480x640 1 cup, 4706.7ms\n",
            "Speed: 2.0ms preprocess, 4706.7ms inference, 1.3ms postprocess per image at shape (1, 3, 640, 640)\n"
          ]
        },
        {
          "name": "stdout",
          "output_type": "stream",
          "text": [
            "1\n",
            "/content/data/photo_05.jpg\n"
          ]
        },
        {
          "name": "stderr",
          "output_type": "stream",
          "text": [
            "\n",
            "image 1/1 /content/data/photo_05.jpg: 480x640 1 suitcase, 1 cup, 3326.3ms\n",
            "Speed: 1.9ms preprocess, 3326.3ms inference, 1.3ms postprocess per image at shape (1, 3, 640, 640)\n"
          ]
        },
        {
          "name": "stdout",
          "output_type": "stream",
          "text": [
            "2\n",
            "/content/data/photo_12.jpg\n"
          ]
        },
        {
          "name": "stderr",
          "output_type": "stream",
          "text": [
            "\n",
            "image 1/1 /content/data/photo_12.jpg: 480x640 1 cup, 3972.6ms\n",
            "Speed: 2.0ms preprocess, 3972.6ms inference, 1.7ms postprocess per image at shape (1, 3, 640, 640)\n"
          ]
        },
        {
          "name": "stdout",
          "output_type": "stream",
          "text": [
            "1\n",
            "/content/data/photo_22.jpg\n"
          ]
        },
        {
          "name": "stderr",
          "output_type": "stream",
          "text": [
            "\n",
            "image 1/1 /content/data/photo_22.jpg: 480x640 (no detections), 3231.2ms\n",
            "Speed: 2.5ms preprocess, 3231.2ms inference, 0.9ms postprocess per image at shape (1, 3, 640, 640)\n"
          ]
        },
        {
          "name": "stdout",
          "output_type": "stream",
          "text": [
            "0\n",
            "/content/data/photo_11.jpg\n"
          ]
        },
        {
          "name": "stderr",
          "output_type": "stream",
          "text": [
            "\n",
            "image 1/1 /content/data/photo_11.jpg: 480x640 1 suitcase, 1 cup, 3234.7ms\n",
            "Speed: 2.0ms preprocess, 3234.7ms inference, 1.3ms postprocess per image at shape (1, 3, 640, 640)\n"
          ]
        },
        {
          "name": "stdout",
          "output_type": "stream",
          "text": [
            "2\n",
            "/content/data/photo_07.jpg\n"
          ]
        },
        {
          "name": "stderr",
          "output_type": "stream",
          "text": [
            "\n",
            "image 1/1 /content/data/photo_07.jpg: 480x640 1 toilet, 3830.0ms\n",
            "Speed: 2.1ms preprocess, 3830.0ms inference, 1.4ms postprocess per image at shape (1, 3, 640, 640)\n"
          ]
        },
        {
          "name": "stdout",
          "output_type": "stream",
          "text": [
            "1\n",
            "/content/data/photo_19.jpg\n"
          ]
        },
        {
          "name": "stderr",
          "output_type": "stream",
          "text": [
            "\n",
            "image 1/1 /content/data/photo_19.jpg: 480x640 1 frisbee, 3261.9ms\n",
            "Speed: 2.0ms preprocess, 3261.9ms inference, 1.3ms postprocess per image at shape (1, 3, 640, 640)\n"
          ]
        },
        {
          "name": "stdout",
          "output_type": "stream",
          "text": [
            "1\n",
            "/content/data/photo_17.jpg\n"
          ]
        },
        {
          "name": "stderr",
          "output_type": "stream",
          "text": [
            "\n",
            "image 1/1 /content/data/photo_17.jpg: 480x640 1 cup, 4633.6ms\n",
            "Speed: 2.2ms preprocess, 4633.6ms inference, 1.3ms postprocess per image at shape (1, 3, 640, 640)\n"
          ]
        },
        {
          "name": "stdout",
          "output_type": "stream",
          "text": [
            "1\n",
            "/content/data/photo_24.jpg\n"
          ]
        },
        {
          "name": "stderr",
          "output_type": "stream",
          "text": [
            "\n",
            "image 1/1 /content/data/photo_24.jpg: 480x640 1 handbag, 1 suitcase, 1 cup, 3225.5ms\n",
            "Speed: 1.9ms preprocess, 3225.5ms inference, 1.4ms postprocess per image at shape (1, 3, 640, 640)\n"
          ]
        },
        {
          "name": "stdout",
          "output_type": "stream",
          "text": [
            "3\n",
            "/content/data/photo_03.jpg\n"
          ]
        },
        {
          "name": "stderr",
          "output_type": "stream",
          "text": [
            "\n",
            "image 1/1 /content/data/photo_03.jpg: 480x640 1 cup, 3287.8ms\n",
            "Speed: 1.9ms preprocess, 3287.8ms inference, 1.8ms postprocess per image at shape (1, 3, 640, 640)\n"
          ]
        },
        {
          "name": "stdout",
          "output_type": "stream",
          "text": [
            "1\n",
            "/content/data/photo_15.jpg\n"
          ]
        },
        {
          "name": "stderr",
          "output_type": "stream",
          "text": [
            "\n",
            "image 1/1 /content/data/photo_15.jpg: 480x640 1 cup, 3242.8ms\n",
            "Speed: 2.2ms preprocess, 3242.8ms inference, 1.3ms postprocess per image at shape (1, 3, 640, 640)\n"
          ]
        },
        {
          "name": "stdout",
          "output_type": "stream",
          "text": [
            "1\n",
            "/content/data/photo_25.jpg\n"
          ]
        },
        {
          "name": "stderr",
          "output_type": "stream",
          "text": [
            "\n",
            "image 1/1 /content/data/photo_25.jpg: 480x640 1 cup, 3234.2ms\n",
            "Speed: 1.9ms preprocess, 3234.2ms inference, 1.4ms postprocess per image at shape (1, 3, 640, 640)\n"
          ]
        },
        {
          "name": "stdout",
          "output_type": "stream",
          "text": [
            "1\n",
            "/content/data/photo_09.jpg\n"
          ]
        },
        {
          "name": "stderr",
          "output_type": "stream",
          "text": [
            "\n",
            "image 1/1 /content/data/photo_09.jpg: 480x640 (no detections), 4571.7ms\n",
            "Speed: 1.9ms preprocess, 4571.7ms inference, 0.9ms postprocess per image at shape (1, 3, 640, 640)\n"
          ]
        },
        {
          "name": "stdout",
          "output_type": "stream",
          "text": [
            "0\n",
            "/content/data/photo_16.jpg\n"
          ]
        },
        {
          "name": "stderr",
          "output_type": "stream",
          "text": [
            "\n",
            "image 1/1 /content/data/photo_16.jpg: 480x640 1 cup, 3234.1ms\n",
            "Speed: 2.0ms preprocess, 3234.1ms inference, 1.4ms postprocess per image at shape (1, 3, 640, 640)\n"
          ]
        },
        {
          "name": "stdout",
          "output_type": "stream",
          "text": [
            "1\n",
            "/content/data/photo_21.jpg\n"
          ]
        },
        {
          "name": "stderr",
          "output_type": "stream",
          "text": [
            "\n",
            "image 1/1 /content/data/photo_21.jpg: 480x640 1 cup, 3966.4ms\n",
            "Speed: 1.9ms preprocess, 3966.4ms inference, 2.0ms postprocess per image at shape (1, 3, 640, 640)\n"
          ]
        },
        {
          "name": "stdout",
          "output_type": "stream",
          "text": [
            "1\n"
          ]
        }
      ],
      "source": [
        "import os \n",
        "for i in os.listdir('./data'):\n",
        "    print(f'./data/{i}')\n",
        "    model = YOLO('yolov8x.pt')\n",
        "    results = model.predict(f'./data/{i}', conf=0.28)\n",
        "    print(results[0].__len__())"
      ]
    },
    {
      "cell_type": "code",
      "execution_count": null,
      "metadata": {
        "id": "EyspMjBWaKNH"
      },
      "outputs": [],
      "source": []
    }
  ],
  "metadata": {
    "colab": {
      "provenance": []
    },
    "kernelspec": {
      "display_name": "Python 3",
      "name": "python3"
    },
    "language_info": {
      "codemirror_mode": {
        "name": "ipython",
        "version": 3
      },
      "file_extension": ".py",
      "mimetype": "text/x-python",
      "name": "python",
      "nbconvert_exporter": "python",
      "pygments_lexer": "ipython3",
      "version": "3.11.3"
    }
  },
  "nbformat": 4,
  "nbformat_minor": 0
}
